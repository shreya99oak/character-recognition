{
 "cells": [
  {
   "cell_type": "code",
   "execution_count": 1,
   "metadata": {
    "collapsed": true
   },
   "outputs": [],
   "source": [
    "import numpy as np\n",
    "import PIL.Image\n",
    "#instead of 'import PIL as Image'\n",
    "import os\n",
    "from  numpy import *\n",
    "from PIL import *\n",
    "import matplotlib.pyplot as plt\n",
    "import glob\n",
    "from sklearn.utils import shuffle\n"
   ]
  },
  {
   "cell_type": "code",
   "execution_count": 5,
   "metadata": {
    "collapsed": true
   },
   "outputs": [],
   "source": [
    "path1=\"CHAR/before/c\"\n",
    "path3=\"CHAR/before/p\""
   ]
  },
  {
   "cell_type": "code",
   "execution_count": 6,
   "metadata": {
    "collapsed": true
   },
   "outputs": [],
   "source": [
    "path2=\"CHAR/after\"\n",
    "#im = Image.open(\"Pictures/CHAR/before/1.png\")\n",
    "#im.rotate(45).show()\n",
    "#im.rotate(0).show()\n",
    "#files=glob.glob('/Pictures/CHAR/before')\n",
    "#arr = np.array(im)\n",
    "\n",
    "#arr = ([np.array(Image.open(file_name)) for file_name in files])\n",
    "#print(len(arr))\n",
    "#print(arr)\n",
    "import pickle\n",
    "#arr.dump('Pictures/CHAR/after/file.pny')\n",
    "#array=list(im.getdata())\n",
    "#array.flatten()"
   ]
  },
  {
   "cell_type": "code",
   "execution_count": 7,
   "metadata": {},
   "outputs": [
    {
     "name": "stdout",
     "output_type": "stream",
     "text": [
      "25\n",
      "30\n"
     ]
    }
   ],
   "source": [
    "l1=os.listdir(path1)\n",
    "l3=os.listdir(path3)\n",
    "no_of_images=size(l1)\n",
    "no_of_images=size(l3)\n",
    "print(size(l1))\n",
    "print(size(l3))\n",
    "\n",
    "for file in l1:\n",
    "    im = Image.open(path1+'/'+file)   \n",
    "    img = im.resize((100,100)) #resize incase crop size is not uniform\n",
    "    convert_to_grey = img.convert('L')\n",
    "                #some may have the red underline(spell check)           \n",
    "    convert_to_grey.save(path2 +'/' +  file, \"png\")\n",
    "    \n",
    "    #this is done for 'p'\n",
    "    #here the images are opened and resized, then cnverted to graysale(incase of the spell check underline),\n",
    "    #then they are saved to another folder(path2)in the png format\n",
    "    \n",
    "    \n",
    "for file in l3:\n",
    "    im = Image.open(path3+'/'+file)   \n",
    "    img = im.resize((100,100)) #resize incase crop size is not uniform\n",
    "    convert_to_grey = img.convert('L')\n",
    "                #some may have the red underline(spell check)           \n",
    "    convert_to_grey.save(path2 +'/' +  file, \"png\")\n",
    "    \n",
    "    #this is done for 'c'\n",
    "    "
   ]
  },
  {
   "cell_type": "code",
   "execution_count": 8,
   "metadata": {
    "collapsed": true
   },
   "outputs": [],
   "source": [
    "l2 = os.listdir(path2)"
   ]
  },
  {
   "cell_type": "code",
   "execution_count": 9,
   "metadata": {
    "collapsed": true
   },
   "outputs": [],
   "source": [
    "\n",
    "image_Array = array([array(Image.open(path2+ '/' + data)).flatten()\n",
    "              for data in l2],'f')\n",
    "#convert to an array and flatten it\n",
    "                \n",
    "label=np.ones((55,),dtype = int)\n",
    "label[0:25]=0 \n",
    "label[25:]=1\n",
    "#give the labels to the images for multiclass classification\n",
    "#since the first 25 images are of p, and next 30 are of c...we have printed them above\n"
   ]
  },
  {
   "cell_type": "code",
   "execution_count": 10,
   "metadata": {},
   "outputs": [
    {
     "name": "stdout",
     "output_type": "stream",
     "text": [
      "(55, 10000)\n",
      "(55,)\n"
     ]
    }
   ],
   "source": [
    "data,Label = shuffle(image_Array,label, random_state=2)  #here we shuffle the labeled images so that our train and test set\n",
    "#is chosen randomly\n",
    "#image_Array gets assigned to data and label gets assigned to Label\n",
    "train_data = [data,Label]\n",
    "#the train_data gets an array of the above dimensions\n",
    "\n",
    "\n",
    "print (train_data[0].shape)\n",
    "#x is the data and y are the labels\n",
    "print (train_data[1].shape)"
   ]
  },
  {
   "cell_type": "code",
   "execution_count": 11,
   "metadata": {
    "collapsed": true
   },
   "outputs": [],
   "source": [
    "from sklearn.model_selection import train_test_split\n",
    "from sklearn.neighbors import KNeighborsClassifier\n",
    "from sklearn.metrics import accuracy_score\n",
    "#import the libraries"
   ]
  },
  {
   "cell_type": "code",
   "execution_count": 12,
   "metadata": {},
   "outputs": [
    {
     "name": "stdout",
     "output_type": "stream",
     "text": [
      "(44, 'train set')\n",
      "(11, 'test set')\n"
     ]
    }
   ],
   "source": [
    "(X, y) = (train_data[0],train_data[1])\n",
    "#here the inputs i.e image array is X\n",
    "#labels are y\n",
    "\n",
    "\n",
    "X_train, X_test, y_train, y_test = train_test_split(X, y, test_size=0.19, random_state=4)\n",
    "#split the x and y into train and validation sets, test size is 0.19 as the dataset is small\n",
    "X_train = X_train.astype('float32')\n",
    "X_test = X_test.astype('float32')\n",
    "#here we normalize, so that each feature is scaled down to a value between 0-1\n",
    "X_train /= 255\n",
    "X_test /= 255\n",
    "\n",
    "print(X_train.shape[0], 'train set')\n",
    "print(X_test.shape[0], 'test set')"
   ]
  },
  {
   "cell_type": "code",
   "execution_count": 13,
   "metadata": {},
   "outputs": [
    {
     "data": {
      "text/plain": [
       "KNeighborsClassifier(algorithm='kd_tree', leaf_size=30, metric='minkowski',\n",
       "           metric_params=None, n_jobs=1, n_neighbors=7, p=2,\n",
       "           weights='uniform')"
      ]
     },
     "execution_count": 13,
     "metadata": {},
     "output_type": "execute_result"
    }
   ],
   "source": [
    "clf=KNeighborsClassifier(n_neighbors=7,n_jobs=1,algorithm='kd_tree',)\n",
    "#KNN is used here as its a classification problem. KNN uses the method of grouping the n neearest neighbours of a point \n",
    "#and classifying it as a member of that group\n",
    "#n_neighbours are the number of neighbours around a point to form a group\n",
    "clf.fit(X_train,y_train)"
   ]
  },
  {
   "cell_type": "code",
   "execution_count": 14,
   "metadata": {},
   "outputs": [
    {
     "name": "stdout",
     "output_type": "stream",
     "text": [
      "0.727272727273\n"
     ]
    }
   ],
   "source": [
    "pred = clf.predict(X_test)\n",
    "\n",
    "# evaluate accuracy\n",
    "print(accuracy_score(y_test, pred))"
   ]
  },
  {
   "cell_type": "code",
   "execution_count": null,
   "metadata": {
    "collapsed": true
   },
   "outputs": [],
   "source": []
  }
 ],
 "metadata": {
  "kernelspec": {
   "display_name": "Python 2",
   "language": "python",
   "name": "python2"
  },
  "language_info": {
   "codemirror_mode": {
    "name": "ipython",
    "version": 2
   },
   "file_extension": ".py",
   "mimetype": "text/x-python",
   "name": "python",
   "nbconvert_exporter": "python",
   "pygments_lexer": "ipython2",
   "version": "2.7.13"
  }
 },
 "nbformat": 4,
 "nbformat_minor": 2
}
